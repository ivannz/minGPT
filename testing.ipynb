{
 "cells": [
  {
   "cell_type": "code",
   "execution_count": null,
   "metadata": {},
   "outputs": [],
   "source": [
    "import torch\n",
    "import torch.nn as nn"
   ]
  },
  {
   "cell_type": "code",
   "execution_count": null,
   "metadata": {},
   "outputs": [],
   "source": [
    "filename = 'pooled20201206-192818 mingpt-128.pt'\n",
    "# filename = 'zeropunctuation20200823-113312 mingpt-128.pt'\n",
    "# filename = 'shakespeare 20200822-235215 mingpt-128.pt'\n",
    "with open(filename, 'rb') as fin:\n",
    "    state = torch.load(fin, map_location=torch.device('cpu'))"
   ]
  },
  {
   "cell_type": "code",
   "execution_count": null,
   "metadata": {},
   "outputs": [],
   "source": [
    "device_ = torch.device('cuda:2')"
   ]
  },
  {
   "cell_type": "code",
   "execution_count": null,
   "metadata": {},
   "outputs": [],
   "source": [
    "from mingpt.model import GPT, GPTConfig\n",
    "\n",
    "model = GPT(GPTConfig(**state['GPTConfig'])).to(device_)\n",
    "model.load_state_dict(state['model'])"
   ]
  },
  {
   "cell_type": "code",
   "execution_count": null,
   "metadata": {
    "scrolled": false
   },
   "outputs": [],
   "source": [
    "# alright, let's sample some character-level shakespear\n",
    "from mingpt.utils import generate\n",
    "\n",
    "with torch.no_grad():\n",
    "    block_size = model.get_block_size()\n",
    "\n",
    "    itos, stoi = state['dataset']['itos'], state['dataset']['stoi']\n",
    "    while True:\n",
    "        prompt = input('>>> ')\n",
    "        if prompt.startswith('\\\\'):\n",
    "            break\n",
    "\n",
    "        elif not prompt:\n",
    "            prompt = text\n",
    "\n",
    "        else:\n",
    "            text = prompt\n",
    "        \n",
    "        x = torch.tensor([stoi[s] for s in prompt], dtype=torch.long, device=device_)\n",
    "        generator = generate(model, x, block_size*10, temperature=1e0, sample=True, top_k=10)\n",
    "        for ix, probs in generator:\n",
    "            c = itos[ix]\n",
    "            print(c, sep='', end='', flush=True)\n",
    "            text += c\n",
    "        print()\n",
    "    # context = ?''.join([state['dataset']['itos'][int(i)] for i in y[0]])\n",
    "# print(context)"
   ]
  },
  {
   "cell_type": "markdown",
   "metadata": {},
   "source": [
    "Lovecraftian horror games where you can play as a single player can only be a sense of paper cartoon before your standard problems and shooting and then the fucking title to do it for the standard between the entire game is a strategy of second controls. I didn't have a litt"
   ]
  },
  {
   "cell_type": "code",
   "execution_count": null,
   "metadata": {},
   "outputs": [],
   "source": [
    "context = 'EPISODE: '"
   ]
  },
  {
   "cell_type": "code",
   "execution_count": null,
   "metadata": {},
   "outputs": [],
   "source": [
    "from mingpt.utils import sample\n",
    "\n",
    "with torch.no_grad():\n",
    "    chars = [state['dataset']['stoi'][s] for s in context]\n",
    "    x = torch.tensor(chars, dtype=torch.long).to(device_)\n",
    "    y = sample(model, x, 512, temperature=1e-1, sample=False, top_k=12)\n",
    "\n",
    "    context = ''.join([state['dataset']['itos'][int(i)] for i in y])\n",
    "\n",
    "print(context)"
   ]
  },
  {
   "cell_type": "raw",
   "metadata": {},
   "source": [
    "import pdb ; pdb.pm()"
   ]
  }
 ],
 "metadata": {
  "kernelspec": {
   "display_name": "Python 3",
   "language": "python",
   "name": "python3"
  },
  "language_info": {
   "codemirror_mode": {
    "name": "ipython",
    "version": 3
   },
   "file_extension": ".py",
   "mimetype": "text/x-python",
   "name": "python",
   "nbconvert_exporter": "python",
   "pygments_lexer": "ipython3",
   "version": "3.8.1"
  }
 },
 "nbformat": 4,
 "nbformat_minor": 4
}
